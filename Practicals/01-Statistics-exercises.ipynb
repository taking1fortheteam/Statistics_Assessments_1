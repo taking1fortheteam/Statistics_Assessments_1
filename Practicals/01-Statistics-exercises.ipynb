{
 "cells": [
  {
   "cell_type": "markdown",
   "metadata": {},
   "source": [
    "<h3 style=\"color: #001a79;\">Exercise 1.1</h3>\n",
    "\n",
    "<hr style=\"border-top: 1px solid #001a79;\" />\n",
    "\n",
    "The above gives about a 1.5% chance of randomly selecting the correct cups. Calculate the minimum number of cups of tea required to ensure the probability of randomly selecting the correct cups is less than or equal to 1%.\n",
    "\n"
   ]
  },
  {
   "cell_type": "code",
   "execution_count": 1,
   "metadata": {},
   "outputs": [],
   "source": [
    "# The following was adapted from here: https://stackoverflow.com/q/4941753"
   ]
  },
  {
   "cell_type": "code",
   "execution_count": 2,
   "metadata": {},
   "outputs": [],
   "source": [
    "# Math Module Import\n",
    "import math"
   ]
  },
  {
   "cell_type": "markdown",
   "metadata": {},
   "source": [
    "From this address, https://www.w3schools.com/python/module_math.asp, math.comb() - Returns the number of ways to choose k items from n items without repetition and order. Imagine the progress Fischer would have made in his chosen career if computing and clever packages such as python / math was made available to him. Kind of blows the mind. \n",
    "\n",
    "In order to utilize this math function - to deciher number of combinations within the number of items, 2 arguments need to be passed to it. The first is the number of items to choose from, in our initial case below, it is 8 - because Fishers Lady Tea Experiment and our own analysis requires these specifics. \n",
    "\n",
    "The 2nd argument is the number of possibilities to choose - in our initial case it is 4 - simply because Fischers Lady Tea Experiment was based on the lady choosing correctly 4 cups made with tea in first or milk in first. "
   ]
  },
  {
   "cell_type": "code",
   "execution_count": 3,
   "metadata": {},
   "outputs": [
    {
     "data": {
      "text/plain": [
       "70"
      ]
     },
     "execution_count": 3,
     "metadata": {},
     "output_type": "execute_result"
    }
   ],
   "source": [
    "# Number of ways of selecting 4 cups from 8\n",
    "math.comb(8,4)"
   ]
  },
  {
   "cell_type": "markdown",
   "metadata": {},
   "source": [
    "The result above is 70 - meaning there are 70 different combinations of choosing 4 items from 8 items. If we were to use binary numbering scheme to demonstrate simply with 3 items, then there would be 8 combinations. However to only be able to select 2 cups from the 3 presented leaves a far smaller number:"
   ]
  },
  {
   "cell_type": "markdown",
   "metadata": {},
   "source": [
    "Combination\n",
    "\n",
    "0  0  0\n",
    "\n",
    "0  0  1\n",
    "\n",
    "0  1  0\n",
    "\n",
    "0  1  1\n",
    "\n",
    "1  0  0\n",
    "\n",
    "1  0  1\n",
    "\n",
    "1  1  0\n",
    "\n",
    "1  1  1\n"
   ]
  },
  {
   "cell_type": "markdown",
   "metadata": {},
   "source": [
    "Lines containing 011, 101 and 110 are showing the possible combination if there were 3 cups of tea in the experiment and the lady had to guess which 2 had the tea in first out of the possible 3. "
   ]
  },
  {
   "cell_type": "code",
   "execution_count": 4,
   "metadata": {},
   "outputs": [
    {
     "data": {
      "text/plain": [
       "3"
      ]
     },
     "execution_count": 4,
     "metadata": {},
     "output_type": "execute_result"
    }
   ],
   "source": [
    "#Probability, of randomly selecting correctly 2 cups out of 3:\n",
    "math.comb(3, 2)"
   ]
  },
  {
   "cell_type": "code",
   "execution_count": 5,
   "metadata": {},
   "outputs": [
    {
     "data": {
      "text/plain": [
       "33.33"
      ]
     },
     "execution_count": 5,
     "metadata": {},
     "output_type": "execute_result"
    }
   ],
   "source": [
    "#Probability, as a  percentage, of randomly selecting the correct 2 cups out of a possible 3 cups to 2 decimal places is:\n",
    "round((1.0 / math.comb(3, 2) * 100), 2)"
   ]
  },
  {
   "cell_type": "markdown",
   "metadata": {},
   "source": [
    "Moving into slightly larger numbers, on this occasion we are checking the probability of the lady selecting the correct cups of tea from 4 possibilities, with 2 milk in first and 2 tea in first: "
   ]
  },
  {
   "cell_type": "code",
   "execution_count": 6,
   "metadata": {},
   "outputs": [
    {
     "data": {
      "text/plain": [
       "6"
      ]
     },
     "execution_count": 6,
     "metadata": {},
     "output_type": "execute_result"
    }
   ],
   "source": [
    "# Probability of corectly selecting 2 from 4 cups of tea\n",
    "math.comb(4,2)"
   ]
  },
  {
   "cell_type": "code",
   "execution_count": 7,
   "metadata": {},
   "outputs": [
    {
     "data": {
      "text/plain": [
       "16.67"
      ]
     },
     "execution_count": 7,
     "metadata": {},
     "output_type": "execute_result"
    }
   ],
   "source": [
    "#Probability, as a  percentage, of randomly selecting correct cups to 2 decimal places is:\n",
    "round((1.0 / math.comb(4, 2) * 100), 2)"
   ]
  },
  {
   "cell_type": "code",
   "execution_count": 8,
   "metadata": {},
   "outputs": [
    {
     "data": {
      "text/plain": [
       "1.43"
      ]
     },
     "execution_count": 8,
     "metadata": {},
     "output_type": "execute_result"
    }
   ],
   "source": [
    "#Probability, as a  percentage, of randomly selecting correct cups to 2 decimal places is:\n",
    "round((1.0 / math.comb(8, 4) * 100), 2)"
   ]
  },
  {
   "cell_type": "code",
   "execution_count": 9,
   "metadata": {},
   "outputs": [
    {
     "data": {
      "text/plain": [
       "252"
      ]
     },
     "execution_count": 9,
     "metadata": {},
     "output_type": "execute_result"
    }
   ],
   "source": [
    "# NUmber of ways of selecting 5 cups from 10.\n",
    "math.comb(10,5)"
   ]
  },
  {
   "cell_type": "code",
   "execution_count": 10,
   "metadata": {},
   "outputs": [
    {
     "data": {
      "text/plain": [
       "0.4"
      ]
     },
     "execution_count": 10,
     "metadata": {},
     "output_type": "execute_result"
    }
   ],
   "source": [
    "# Probability, as a  percentage, of randomly selecting correct cups to 2 decimal places is:\n",
    "round((1.0 / math.comb(10, 5) * 100), 2)"
   ]
  },
  {
   "cell_type": "markdown",
   "metadata": {},
   "source": [
    "So,  if the experiment was performed with 10 cups total, five with milk in first and five with tea in first, then the chances of selecting correctly randomly is approximately 0.4%.\n"
   ]
  },
  {
   "cell_type": "markdown",
   "metadata": {},
   "source": [
    "BACK TO THE ORIGINAL QUESTION: Calculate the minimum number of cups of tea required to ensure the probability of randomly selecting the correct cups is less than or equal to 1%"
   ]
  },
  {
   "cell_type": "code",
   "execution_count": 20,
   "metadata": {},
   "outputs": [
    {
     "data": {
      "text/plain": [
       "1.43"
      ]
     },
     "execution_count": 20,
     "metadata": {},
     "output_type": "execute_result"
    }
   ],
   "source": [
    "# Probability, as a  percentage, of randomly selecting from 8 cups correct cups to 2 decimal places is:\n",
    "round((1.0 / math.comb(8, 4) * 100), 2)"
   ]
  },
  {
   "cell_type": "code",
   "execution_count": 19,
   "metadata": {},
   "outputs": [
    {
     "data": {
      "text/plain": [
       "0.79"
      ]
     },
     "execution_count": 19,
     "metadata": {},
     "output_type": "execute_result"
    }
   ],
   "source": [
    "# Probability, as a  percentage, of randomly selecting from 9 cups correct cups to 2 decimal places is:\n",
    "round((1.0 / math.comb(9, 4) * 100), 2)"
   ]
  },
  {
   "cell_type": "code",
   "execution_count": 18,
   "metadata": {},
   "outputs": [
    {
     "data": {
      "text/plain": [
       "0.48"
      ]
     },
     "execution_count": 18,
     "metadata": {},
     "output_type": "execute_result"
    }
   ],
   "source": [
    "# Probability, as a  percentage, of randomly selecting from 10 cups correct cups to 2 decimal places is:\n",
    "round((1.0 / math.comb(10, 4) * 100), 2)"
   ]
  },
  {
   "cell_type": "markdown",
   "metadata": {},
   "source": [
    "With 8 cups and we get a percentage of 1.43%\n",
    "With 9 cups and we get a percentage of 0.79%\n",
    "With 10 cups and we get a percentage of 0.48%\n",
    "Therefore the answer to 1.1 is : The minimum number of cups for the probability of randomly selecting the correct cups to be equal or less than 1% is equal to 9.\n"
   ]
  },
  {
   "cell_type": "markdown",
   "metadata": {},
   "source": [
    "*Bonus:* How many would be required if you were to let the taster get one cup wrong while maintaining the 1% threshold?"
   ]
  },
  {
   "cell_type": "markdown",
   "metadata": {},
   "source": [
    "To allow the taster to get one cup wrong while maintaining the threshold. SO basically the entered value into the math.comb() function call will need to be x and n-3 - where x is the unknown number of cups required and n being the number of correct number of selected cups, which we know to be 3 in this case. \n",
    "We can use trial end error to calculate our percentage probability as above. \n",
    "SO lets start with 8 cups and a rnadom selection of 3:"
   ]
  },
  {
   "cell_type": "code",
   "execution_count": 21,
   "metadata": {},
   "outputs": [
    {
     "data": {
      "text/plain": [
       "1.79"
      ]
     },
     "execution_count": 21,
     "metadata": {},
     "output_type": "execute_result"
    }
   ],
   "source": [
    "# Probability, as a  percentage, of randomly selecting 3 correct from 8 cups correct cups to 2 decimal places is:\n",
    "round((1.0 / math.comb(8, 3) * 100), 2)"
   ]
  },
  {
   "cell_type": "raw",
   "metadata": {},
   "source": [
    "Our result has increased to close to 2%, so lets change the number of cups in the experiment to 9"
   ]
  },
  {
   "cell_type": "code",
   "execution_count": 23,
   "metadata": {},
   "outputs": [
    {
     "data": {
      "text/plain": [
       "1.19"
      ]
     },
     "execution_count": 23,
     "metadata": {},
     "output_type": "execute_result"
    }
   ],
   "source": [
    "# Probability, as a  percentage, of randomly selecting 3 correct from 9 cups correct cups to 2 decimal places is:\n",
    "round((1.0 / math.comb(9, 3) * 100), 2)"
   ]
  },
  {
   "cell_type": "markdown",
   "metadata": {},
   "source": [
    "From 9 cups our selection has resulted in a  probability of 1.19%, so one more adjustment should get us below 1%. THis time using 10 cups:"
   ]
  },
  {
   "cell_type": "code",
   "execution_count": 24,
   "metadata": {},
   "outputs": [
    {
     "data": {
      "text/plain": [
       "0.83"
      ]
     },
     "execution_count": 24,
     "metadata": {},
     "output_type": "execute_result"
    }
   ],
   "source": [
    "# Probability, as a  percentage, of randomly selecting 3 correct from 10 cups correct cups to 2 decimal places is:\n",
    "round((1.0 / math.comb(10, 3) * 100), 2)"
   ]
  },
  {
   "cell_type": "markdown",
   "metadata": {},
   "source": [
    "Exercise 2\n",
    "Remember to do these exercises in your own notebook in your assessment repository.\n",
    "\n",
    "Use scipy's version of Fisher's exact test to simulate the Lady Tasting Tea problem.\n"
   ]
  },
  {
   "cell_type": "code",
   "execution_count": 25,
   "metadata": {},
   "outputs": [],
   "source": [
    "# import SCIPY STAT - Statistical Function\n",
    "import scipy.stats as ss"
   ]
  },
  {
   "cell_type": "markdown",
   "metadata": {},
   "source": [
    "Table\n",
    "             With Tea In | With Milk In\n",
    "With Tea In      4               0\n",
    "With Milk In     0               4\n"
   ]
  },
  {
   "cell_type": "code",
   "execution_count": null,
   "metadata": {},
   "outputs": [],
   "source": [
    "Reference made to this address: https://www.statology.org/fishers-exact-test-python/"
   ]
  },
  {
   "cell_type": "code",
   "execution_count": 30,
   "metadata": {},
   "outputs": [
    {
     "name": "stdout",
     "output_type": "stream",
     "text": [
      "(inf, 0.028571428571428536)\n"
     ]
    }
   ],
   "source": [
    "data = [[4,0],[0,4]]\n",
    "print(ss.fisher_exact(data))"
   ]
  },
  {
   "cell_type": "code",
   "execution_count": null,
   "metadata": {},
   "outputs": [],
   "source": [
    "Additional reference to this address: https://docs.scipy.org/doc/scipy/reference/generated/scipy.stats.fisher_exact.html"
   ]
  },
  {
   "cell_type": "code",
   "execution_count": 26,
   "metadata": {},
   "outputs": [
    {
     "data": {
      "text/plain": [
       "(inf, 0.028571428571428536)"
      ]
     },
     "execution_count": 26,
     "metadata": {},
     "output_type": "execute_result"
    }
   ],
   "source": [
    "ss.fisher_exact([[4, 0], [0, 4]])"
   ]
  },
  {
   "cell_type": "code",
   "execution_count": null,
   "metadata": {},
   "outputs": [],
   "source": []
  }
 ],
 "metadata": {
  "kernelspec": {
   "display_name": "Python 3",
   "language": "python",
   "name": "python3"
  },
  "language_info": {
   "codemirror_mode": {
    "name": "ipython",
    "version": 3
   },
   "file_extension": ".py",
   "mimetype": "text/x-python",
   "name": "python",
   "nbconvert_exporter": "python",
   "pygments_lexer": "ipython3",
   "version": "3.8.3"
  }
 },
 "nbformat": 4,
 "nbformat_minor": 4
}
