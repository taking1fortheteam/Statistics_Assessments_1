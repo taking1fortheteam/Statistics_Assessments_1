{
 "cells": [
  {
   "cell_type": "markdown",
   "metadata": {},
   "source": [
    "<h3 style=\"color: #001a79;\">Exercise 1.1</h3>\n",
    "\n",
    "<hr style=\"border-top: 1px solid #001a79;\" />\n",
    "\n",
    "The above gives about a 1.5% chance of randomly selecting the correct cups. Calculate the minimum number of cups of tea required to ensure the probability of randomly selecting the correct cups is less than or equal to 1%.\n",
    "\n"
   ]
  },
  {
   "cell_type": "code",
   "execution_count": null,
   "metadata": {},
   "outputs": [],
   "source": [
    "# The following was adapted from here: https://stackoverflow.com/q/4941753"
   ]
  },
  {
   "cell_type": "code",
   "execution_count": 2,
   "metadata": {},
   "outputs": [],
   "source": [
    "# Math Module Import\n",
    "import math"
   ]
  },
  {
   "cell_type": "markdown",
   "metadata": {},
   "source": [
    "From this address, https://www.w3schools.com/python/module_math.asp, math.comb() - Returns the number of ways to choose k items from n items without repetition and order. Imagine the progress Fischer would have made in his chosen career if computing and clever packages such as python / math was made available to him. Kind of blows the mind. \n",
    "\n",
    "In order to utilize this math function - to deciher number of combinations within the number of items, 2 arguments need to be passed to it. THe first is the number of items to choose from, in our initial case below, it is 8 - because Fishers Lady Tea Experiment and our own analysis requires these specifics. \n",
    "\n",
    "The 2nd argument is the number of possibilities to choose - in our initial case it is 4 - simply because Fischers Lady Tea Experiment was based on the lady choosing correctly 4 cups made with tea in first or milk in first. "
   ]
  },
  {
   "cell_type": "code",
   "execution_count": 4,
   "metadata": {},
   "outputs": [
    {
     "data": {
      "text/plain": [
       "70"
      ]
     },
     "execution_count": 4,
     "metadata": {},
     "output_type": "execute_result"
    }
   ],
   "source": [
    "# Number of ways of selecting 4 cups from 8\n",
    "math.comb(8,4)"
   ]
  },
  {
   "cell_type": "markdown",
   "metadata": {},
   "source": [
    "The result above is 70 - meaning there are 70 different combinations of choosing 4 items from 8 items. If we were to use binary numbering scheme to demonstrate simply with 3 items, then there would be 8 combinations. However to only be able to select 2 cups from the 3 presented leaves a far smaller number:"
   ]
  },
  {
   "cell_type": "markdown",
   "metadata": {},
   "source": [
    "Combination\n",
    "\n",
    "0  0  0\n",
    "\n",
    "0  0  1\n",
    "\n",
    "0  1  0\n",
    "\n",
    "0  1  1\n",
    "\n",
    "1  0  0\n",
    "\n",
    "1  0  1\n",
    "\n",
    "1  1  0\n",
    "\n",
    "1  1  1\n"
   ]
  },
  {
   "cell_type": "markdown",
   "metadata": {},
   "source": [
    "Lines containing 011, 101 and 110 are showing the possible combination if there were 3 cups of tea in the experiment and the lady had to guess which 2 had the tea in first out of the possible 3. "
   ]
  },
  {
   "cell_type": "code",
   "execution_count": 22,
   "metadata": {},
   "outputs": [
    {
     "data": {
      "text/plain": [
       "3"
      ]
     },
     "execution_count": 22,
     "metadata": {},
     "output_type": "execute_result"
    }
   ],
   "source": [
    "#Probability, of randomly selecting correctly 2 cups out of 3:\n",
    "math.comb(3, 2)"
   ]
  },
  {
   "cell_type": "code",
   "execution_count": 23,
   "metadata": {},
   "outputs": [
    {
     "data": {
      "text/plain": [
       "33.33"
      ]
     },
     "execution_count": 23,
     "metadata": {},
     "output_type": "execute_result"
    }
   ],
   "source": [
    "#Probability, as a  percentage, of randomly selecting the correct 2 cups out of a possible 3 cups to 2 decimal places is:\n",
    "round((1.0 / math.comb(3, 2) * 100), 2)"
   ]
  },
  {
   "cell_type": "markdown",
   "metadata": {},
   "source": [
    "Moving into slightly larger numbers, on this occasion we are checking the probability of the lady selecting the correct cups of tea from 4 possibilities, with 2 milk in first and 2 tea in first: "
   ]
  },
  {
   "cell_type": "code",
   "execution_count": 24,
   "metadata": {},
   "outputs": [
    {
     "data": {
      "text/plain": [
       "6"
      ]
     },
     "execution_count": 24,
     "metadata": {},
     "output_type": "execute_result"
    }
   ],
   "source": [
    "# Probability of corectly selecting 2 from 4 cups of tea\n",
    "math.comb(4,2)"
   ]
  },
  {
   "cell_type": "code",
   "execution_count": 19,
   "metadata": {},
   "outputs": [
    {
     "data": {
      "text/plain": [
       "16.67"
      ]
     },
     "execution_count": 19,
     "metadata": {},
     "output_type": "execute_result"
    }
   ],
   "source": [
    "#Probability, as a  percentage, of randomly selecting correct cups to 2 decimal places is:\n",
    "round((1.0 / math.comb(4, 2) * 100), 2)"
   ]
  },
  {
   "cell_type": "code",
   "execution_count": 17,
   "metadata": {},
   "outputs": [
    {
     "data": {
      "text/plain": [
       "1.43"
      ]
     },
     "execution_count": 17,
     "metadata": {},
     "output_type": "execute_result"
    }
   ],
   "source": [
    "#Probability, as a  percentage, of randomly selecting correct cups to 2 decimal places is:\n",
    "round((1.0 / math.comb(8, 4) * 100), 2)"
   ]
  },
  {
   "cell_type": "code",
   "execution_count": 6,
   "metadata": {},
   "outputs": [
    {
     "data": {
      "text/plain": [
       "252"
      ]
     },
     "execution_count": 6,
     "metadata": {},
     "output_type": "execute_result"
    }
   ],
   "source": [
    "# NUmber of ways of selecting 5 cups from 10.\n",
    "math.comb(10,5)"
   ]
  },
  {
   "cell_type": "code",
   "execution_count": 12,
   "metadata": {},
   "outputs": [
    {
     "data": {
      "text/plain": [
       "0.4"
      ]
     },
     "execution_count": 12,
     "metadata": {},
     "output_type": "execute_result"
    }
   ],
   "source": [
    "# Probability, as a  percentage, of randomly selecting correct cups to 2 decimal places is:\n",
    "round((1.0 / math.comb(10, 5) * 100), 2)"
   ]
  },
  {
   "cell_type": "markdown",
   "metadata": {},
   "source": [
    "So,  if the experiment was performed with 10 cups total, five with milk in first nd five with tea in first, then the chances of selecting correctly randomly is approximately 0.4%.\n"
   ]
  },
  {
   "cell_type": "markdown",
   "metadata": {},
   "source": [
    "*Bonus:* How many would be required if you were to let the taster get one cup wrong while maintaining the 1% threshold?"
   ]
  },
  {
   "cell_type": "code",
   "execution_count": null,
   "metadata": {},
   "outputs": [],
   "source": []
  },
  {
   "cell_type": "code",
   "execution_count": null,
   "metadata": {},
   "outputs": [],
   "source": []
  },
  {
   "cell_type": "code",
   "execution_count": null,
   "metadata": {},
   "outputs": [],
   "source": []
  },
  {
   "cell_type": "code",
   "execution_count": null,
   "metadata": {},
   "outputs": [],
   "source": []
  },
  {
   "cell_type": "code",
   "execution_count": null,
   "metadata": {},
   "outputs": [],
   "source": []
  },
  {
   "cell_type": "code",
   "execution_count": null,
   "metadata": {},
   "outputs": [],
   "source": []
  }
 ],
 "metadata": {
  "kernelspec": {
   "display_name": "Python 3",
   "language": "python",
   "name": "python3"
  },
  "language_info": {
   "codemirror_mode": {
    "name": "ipython",
    "version": 3
   },
   "file_extension": ".py",
   "mimetype": "text/x-python",
   "name": "python",
   "nbconvert_exporter": "python",
   "pygments_lexer": "ipython3",
   "version": "3.8.3"
  }
 },
 "nbformat": 4,
 "nbformat_minor": 4
}
